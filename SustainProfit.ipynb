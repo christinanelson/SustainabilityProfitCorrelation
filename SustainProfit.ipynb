{
 "cells": [
  {
   "cell_type": "code",
   "execution_count": 82,
   "metadata": {},
   "outputs": [],
   "source": [
    "# Exploratory analysis to investigate correlation between\n",
    "# Country/region's GDP growth rate and use of sustainable \n",
    "# actions for environemntal and social considerations\n",
    "import pandas as pd\n",
    "import numpy as np\n",
    "import matplotlib\n",
    "import matplotlib.pyplot as plt \n",
    "import matplotlib.cm as cm"
   ]
  },
  {
   "cell_type": "code",
   "execution_count": 83,
   "metadata": {},
   "outputs": [],
   "source": [
    "# read in csv data file\n",
    "df = pd.read_csv('ESGData.csv')"
   ]
  },
  {
   "cell_type": "code",
   "execution_count": 84,
   "metadata": {},
   "outputs": [
    {
     "data": {
      "text/html": [
       "<div>\n",
       "<style scoped>\n",
       "    .dataframe tbody tr th:only-of-type {\n",
       "        vertical-align: middle;\n",
       "    }\n",
       "\n",
       "    .dataframe tbody tr th {\n",
       "        vertical-align: top;\n",
       "    }\n",
       "\n",
       "    .dataframe thead th {\n",
       "        text-align: right;\n",
       "    }\n",
       "</style>\n",
       "<table border=\"1\" class=\"dataframe\">\n",
       "  <thead>\n",
       "    <tr style=\"text-align: right;\">\n",
       "      <th></th>\n",
       "      <th>Country Name</th>\n",
       "      <th>Indicator Name</th>\n",
       "      <th>2015</th>\n",
       "    </tr>\n",
       "  </thead>\n",
       "  <tbody>\n",
       "    <tr>\n",
       "      <th>23</th>\n",
       "      <td>Arab World</td>\n",
       "      <td>GDP growth (annual %)</td>\n",
       "      <td>3.243312</td>\n",
       "    </tr>\n",
       "    <tr>\n",
       "      <th>90</th>\n",
       "      <td>Caribbean small states</td>\n",
       "      <td>GDP growth (annual %)</td>\n",
       "      <td>0.981287</td>\n",
       "    </tr>\n",
       "    <tr>\n",
       "      <th>157</th>\n",
       "      <td>Central Europe and the Baltics</td>\n",
       "      <td>GDP growth (annual %)</td>\n",
       "      <td>3.980466</td>\n",
       "    </tr>\n",
       "    <tr>\n",
       "      <th>224</th>\n",
       "      <td>Early-demographic dividend</td>\n",
       "      <td>GDP growth (annual %)</td>\n",
       "      <td>4.616404</td>\n",
       "    </tr>\n",
       "    <tr>\n",
       "      <th>291</th>\n",
       "      <td>East Asia &amp; Pacific</td>\n",
       "      <td>GDP growth (annual %)</td>\n",
       "      <td>4.196838</td>\n",
       "    </tr>\n",
       "  </tbody>\n",
       "</table>\n",
       "</div>"
      ],
      "text/plain": [
       "                       Country Name         Indicator Name      2015\n",
       "23                       Arab World  GDP growth (annual %)  3.243312\n",
       "90           Caribbean small states  GDP growth (annual %)  0.981287\n",
       "157  Central Europe and the Baltics  GDP growth (annual %)  3.980466\n",
       "224      Early-demographic dividend  GDP growth (annual %)  4.616404\n",
       "291             East Asia & Pacific  GDP growth (annual %)  4.196838"
      ]
     },
     "execution_count": 84,
     "metadata": {},
     "output_type": "execute_result"
    }
   ],
   "source": [
    "# filter dataframe for GDP\n",
    "gdp    = df['Indicator Name'] == 'GDP growth (annual %)'\n",
    "df_gdp = df[gdp]\n",
    "df_gdp[['Country Name','Indicator Name','2015']].head()"
   ]
  },
  {
   "cell_type": "code",
   "execution_count": 85,
   "metadata": {},
   "outputs": [],
   "source": [
    "country = df_gdp['Country Name'].to_list()\n",
    "#print(country)\n",
    "gdp_list = df_gdp['2015'].to_list()\n",
    "#print(gdp_list)"
   ]
  },
  {
   "cell_type": "code",
   "execution_count": 86,
   "metadata": {},
   "outputs": [
    {
     "data": {
      "text/html": [
       "<div>\n",
       "<style scoped>\n",
       "    .dataframe tbody tr th:only-of-type {\n",
       "        vertical-align: middle;\n",
       "    }\n",
       "\n",
       "    .dataframe tbody tr th {\n",
       "        vertical-align: top;\n",
       "    }\n",
       "\n",
       "    .dataframe thead th {\n",
       "        text-align: right;\n",
       "    }\n",
       "</style>\n",
       "<table border=\"1\" class=\"dataframe\">\n",
       "  <thead>\n",
       "    <tr style=\"text-align: right;\">\n",
       "      <th></th>\n",
       "      <th>Country Name</th>\n",
       "      <th>Indicator Name</th>\n",
       "      <th>2015</th>\n",
       "    </tr>\n",
       "  </thead>\n",
       "  <tbody>\n",
       "    <tr>\n",
       "      <th>56</th>\n",
       "      <td>Arab World</td>\n",
       "      <td>Renewable energy consumption (% of total final...</td>\n",
       "      <td>4.094037</td>\n",
       "    </tr>\n",
       "    <tr>\n",
       "      <th>123</th>\n",
       "      <td>Caribbean small states</td>\n",
       "      <td>Renewable energy consumption (% of total final...</td>\n",
       "      <td>8.825977</td>\n",
       "    </tr>\n",
       "    <tr>\n",
       "      <th>190</th>\n",
       "      <td>Central Europe and the Baltics</td>\n",
       "      <td>Renewable energy consumption (% of total final...</td>\n",
       "      <td>17.121893</td>\n",
       "    </tr>\n",
       "    <tr>\n",
       "      <th>257</th>\n",
       "      <td>Early-demographic dividend</td>\n",
       "      <td>Renewable energy consumption (% of total final...</td>\n",
       "      <td>25.554845</td>\n",
       "    </tr>\n",
       "    <tr>\n",
       "      <th>324</th>\n",
       "      <td>East Asia &amp; Pacific</td>\n",
       "      <td>Renewable energy consumption (% of total final...</td>\n",
       "      <td>13.857603</td>\n",
       "    </tr>\n",
       "  </tbody>\n",
       "</table>\n",
       "</div>"
      ],
      "text/plain": [
       "                       Country Name  \\\n",
       "56                       Arab World   \n",
       "123          Caribbean small states   \n",
       "190  Central Europe and the Baltics   \n",
       "257      Early-demographic dividend   \n",
       "324             East Asia & Pacific   \n",
       "\n",
       "                                        Indicator Name       2015  \n",
       "56   Renewable energy consumption (% of total final...   4.094037  \n",
       "123  Renewable energy consumption (% of total final...   8.825977  \n",
       "190  Renewable energy consumption (% of total final...  17.121893  \n",
       "257  Renewable energy consumption (% of total final...  25.554845  \n",
       "324  Renewable energy consumption (% of total final...  13.857603  "
      ]
     },
     "execution_count": 86,
     "metadata": {},
     "output_type": "execute_result"
    }
   ],
   "source": [
    "# filter dataframe for Renewable Energy Consumption\n",
    "#rnw = df[['Country Name','Indicator Name','2015']]\n",
    "#RnwEngy = rnw.rename(columns={'2015': 'rnw2015'})\n",
    "#nwEngy.loc[RnwEngy['Indicator Name'] == 'Renewable energy consumption (% of total final energy consumption)']\n",
    "\n",
    "rnw    = df['Indicator Name'] == 'Renewable energy consumption (% of total final energy consumption)'\n",
    "df_rnw = df[rnw]\n",
    "df_rnw[['Country Name','Indicator Name','2015']].head()\n"
   ]
  },
  {
   "cell_type": "code",
   "execution_count": 87,
   "metadata": {},
   "outputs": [],
   "source": [
    "rnw_list = df_rnw['2015'].to_list()\n",
    "#print(rnw_list)"
   ]
  },
  {
   "cell_type": "code",
   "execution_count": 88,
   "metadata": {},
   "outputs": [
    {
     "data": {
      "text/html": [
       "<div>\n",
       "<style scoped>\n",
       "    .dataframe tbody tr th:only-of-type {\n",
       "        vertical-align: middle;\n",
       "    }\n",
       "\n",
       "    .dataframe tbody tr th {\n",
       "        vertical-align: top;\n",
       "    }\n",
       "\n",
       "    .dataframe thead th {\n",
       "        text-align: right;\n",
       "    }\n",
       "</style>\n",
       "<table border=\"1\" class=\"dataframe\">\n",
       "  <thead>\n",
       "    <tr style=\"text-align: right;\">\n",
       "      <th></th>\n",
       "      <th>Country Name</th>\n",
       "      <th>Indicator Name</th>\n",
       "      <th>2015</th>\n",
       "    </tr>\n",
       "  </thead>\n",
       "  <tbody>\n",
       "    <tr>\n",
       "      <th>53</th>\n",
       "      <td>Arab World</td>\n",
       "      <td>Ratio of female to male labor force participat...</td>\n",
       "      <td>31.352899</td>\n",
       "    </tr>\n",
       "    <tr>\n",
       "      <th>120</th>\n",
       "      <td>Caribbean small states</td>\n",
       "      <td>Ratio of female to male labor force participat...</td>\n",
       "      <td>74.709202</td>\n",
       "    </tr>\n",
       "    <tr>\n",
       "      <th>187</th>\n",
       "      <td>Central Europe and the Baltics</td>\n",
       "      <td>Ratio of female to male labor force participat...</td>\n",
       "      <td>75.276981</td>\n",
       "    </tr>\n",
       "    <tr>\n",
       "      <th>254</th>\n",
       "      <td>Early-demographic dividend</td>\n",
       "      <td>Ratio of female to male labor force participat...</td>\n",
       "      <td>45.259790</td>\n",
       "    </tr>\n",
       "    <tr>\n",
       "      <th>321</th>\n",
       "      <td>East Asia &amp; Pacific</td>\n",
       "      <td>Ratio of female to male labor force participat...</td>\n",
       "      <td>77.589263</td>\n",
       "    </tr>\n",
       "  </tbody>\n",
       "</table>\n",
       "</div>"
      ],
      "text/plain": [
       "                       Country Name  \\\n",
       "53                       Arab World   \n",
       "120          Caribbean small states   \n",
       "187  Central Europe and the Baltics   \n",
       "254      Early-demographic dividend   \n",
       "321             East Asia & Pacific   \n",
       "\n",
       "                                        Indicator Name       2015  \n",
       "53   Ratio of female to male labor force participat...  31.352899  \n",
       "120  Ratio of female to male labor force participat...  74.709202  \n",
       "187  Ratio of female to male labor force participat...  75.276981  \n",
       "254  Ratio of female to male labor force participat...  45.259790  \n",
       "321  Ratio of female to male labor force participat...  77.589263  "
      ]
     },
     "execution_count": 88,
     "metadata": {},
     "output_type": "execute_result"
    }
   ],
   "source": [
    "# filter dataframe for Ratio of female to male labor force participation rate (%) (modeled ILO estimate)\n",
    "ftm    = df['Indicator Name'] == 'Ratio of female to male labor force participation rate (%) (modeled ILO estimate)'\n",
    "df_ftm = df[ftm]\n",
    "df_ftm[['Country Name','Indicator Name','2015']].head()"
   ]
  },
  {
   "cell_type": "code",
   "execution_count": 152,
   "metadata": {},
   "outputs": [],
   "source": [
    "ftm_list = df_ftm['2015'].to_list()\n",
    "#print(ftm_list)"
   ]
  },
  {
   "cell_type": "code",
   "execution_count": 159,
   "metadata": {},
   "outputs": [
    {
     "data": {
      "text/plain": [
       "Text(0, 0.5, 'GDP growth (annual %)')"
      ]
     },
     "execution_count": 159,
     "metadata": {},
     "output_type": "execute_result"
    },
    {
     "data": {
      "image/png": "[encoded data removed]",
      "text/plain": [
       "<Figure size 432x288 with 1 Axes>"
      ]
     },
     "metadata": {
      "needs_background": "light"
     },
     "output_type": "display_data"
    }
   ],
   "source": [
    "# The above is just to show some of the nubmers obtained from the dataset\n",
    "# Now let's make some plots to visualize the data\n",
    "\n",
    "# first let's plot annual GDP % growth rate to Renewable energy consumption and see if there is a positive correlation\n",
    "cmap = plt.get_cmap('viridis')\n",
    "mycolors = cmap(np.linspace(0,1,len(country)))\n",
    "\n",
    "fig = plt.figure()\n",
    "ax = plt.gca()\n",
    "ax.set_ylim([0.01,100])\n",
    "#ax.scatter(rnw_list, gdp_list)\n",
    "#ax.scatter(rnw_list, gdp_list, s=100,marker='+', mycolors)\n",
    "ax.scatter(rnw_list, gdp_list,s=35, c=mycolors, marker='+')\n",
    "ax.set_yscale('log')\n",
    "ax.set_xscale('log')\n",
    "ax.set_xlabel('Renewable energy consumption (% of total final energy consumption)')\n",
    "ax.set_ylabel('GDP growth (annual %)')\n"
   ]
  },
  {
   "cell_type": "code",
   "execution_count": 173,
   "metadata": {},
   "outputs": [
    {
     "data": {
      "text/plain": [
       "Text(0, 0.5, 'GDP growth (annual %)')"
      ]
     },
     "execution_count": 173,
     "metadata": {},
     "output_type": "execute_result"
    },
    {
     "data": {
      "image/png": "[encoded data removed]",
      "text/plain": [
       "<Figure size 432x288 with 1 Axes>"
      ]
     },
     "metadata": {
      "needs_background": "light"
     },
     "output_type": "display_data"
    }
   ],
   "source": [
    "# now let's plot annual GDP% growth rate to Ratio of female to male labor force participation rate (%)\n",
    "cmap2 = plt.get_cmap('hot')\n",
    "mycolors2 = cmap(np.linspace(0,1,len(country)))\n",
    "fig2 = plt.figure()\n",
    "ax2 = plt.gca()\n",
    "ax2.set_ylim([0.01,100])\n",
    "ax2.scatter(ftm_list, gdp_list, s=35, c=mycolors2, marker='+', label=country)\n",
    "ax2.set_yscale('log')\n",
    "ax2.set_xscale('log')\n",
    "ax2.set_xlabel('Ratio of female to male labor force participation rate (%)')\n",
    "ax2.set_ylabel('GDP growth (annual %)')\n"
   ]
  },
  {
   "cell_type": "code",
   "execution_count": 161,
   "metadata": {},
   "outputs": [],
   "source": [
    "# This *explatory* analysis is super preliminary. \n",
    "# Having the idea to look at these correlations was the hardest part\n",
    "# You can see that there is a very slight trend in positive correlation between\n",
    "# annual GDP growth rate % and renewable energy consumption, and\n",
    "# annual GDP growh rate % and the ratio of female to male labor in the workforce\n",
    "# There are a handful of outliers that show quite strong positive correlations.\n",
    "# This hints that promotion and marketing of sustainable (environmental and social) actions\n",
    "# may have a positive effect on GDP growth rate. \n",
    "# More studies can surely be done to cross reference more data and infer market drivers.\n",
    "# I would really love to be able to be part of the data incubator and watch this project flourish!\n",
    "# :)"
   ]
  }
 ],
 "metadata": {
  "kernelspec": {
   "display_name": "Python 3",
   "language": "python",
   "name": "python3"
  },
  "language_info": {
   "codemirror_mode": {
    "name": "ipython",
    "version": 3
   },
   "file_extension": ".py",
   "mimetype": "text/x-python",
   "name": "python",
   "nbconvert_exporter": "python",
   "pygments_lexer": "ipython3",
   "version": "3.7.3"
  }
 },
 "nbformat": 4,
 "nbformat_minor": 2
}
